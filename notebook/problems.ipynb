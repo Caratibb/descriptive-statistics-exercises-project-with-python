{
    "cells": [
        {
            "cell_type": "markdown",
            "id": "ac622319",
            "metadata": {},
            "source": [
                "# Descriptive statistics problems"
            ]
        },
        {
            "cell_type": "markdown",
            "id": "5e0ab0d5",
            "metadata": {},
            "source": [
                "### Exercise 1\n",
                "\n",
                "We will use NumPy to obtain information to describe statistically.\n",
                "\n",
                "- Generate an array of 100 elements following a normal distribution.\n",
                "- Generate an array of 100 elements following a chi-square distribution with 3 degrees of freedom.\n",
                "- Calculate the main metrics and statistical measures that best describe the two vectors."
            ]
        },
        {
            "cell_type": "code",
            "execution_count": 15,
            "id": "34720ab6",
            "metadata": {},
            "outputs": [
                {
                    "ename": "IndexError",
                    "evalue": "invalid index to scalar variable.",
                    "output_type": "error",
                    "traceback": [
                        "\u001b[0;31m---------------------------------------------------------------------------\u001b[0m",
                        "\u001b[0;31mIndexError\u001b[0m                                Traceback (most recent call last)",
                        "Cell \u001b[0;32mIn[15], line 11\u001b[0m\n\u001b[1;32m      9\u001b[0m mean_normal \u001b[38;5;241m=\u001b[39m np\u001b[38;5;241m.\u001b[39mmean(normal_array)\n\u001b[1;32m     10\u001b[0m median_normal \u001b[38;5;241m=\u001b[39m np\u001b[38;5;241m.\u001b[39mmedian(normal_array)\n\u001b[0;32m---> 11\u001b[0m mode_normal \u001b[38;5;241m=\u001b[39m \u001b[43mmode\u001b[49m\u001b[43m(\u001b[49m\u001b[43mnormal_array\u001b[49m\u001b[43m)\u001b[49m\u001b[43m[\u001b[49m\u001b[38;5;241;43m0\u001b[39;49m\u001b[43m]\u001b[49m\u001b[43m[\u001b[49m\u001b[38;5;241;43m0\u001b[39;49m\u001b[43m]\u001b[49m  \u001b[38;5;66;03m# Use scipy's mode function\u001b[39;00m\n\u001b[1;32m     12\u001b[0m variance_normal \u001b[38;5;241m=\u001b[39m np\u001b[38;5;241m.\u001b[39mvar(normal_array)\n\u001b[1;32m     13\u001b[0m std_dev_normal \u001b[38;5;241m=\u001b[39m np\u001b[38;5;241m.\u001b[39mstd(normal_array)\n",
                        "\u001b[0;31mIndexError\u001b[0m: invalid index to scalar variable."
                    ]
                }
            ],
            "source": [
                "import numpy as np\n",
                "from scipy.stats import mode\n",
                "\n",
                "# Generate the arrays\n",
                "normal_array = np.random.normal(loc=0, scale=1, size=100)\n",
                "chi_square_array = np.random.chisquare(df=3, size=100)\n",
                "\n",
                "# Calculate statistics for the normal distribution array\n",
                "mean_normal = np.mean(normal_array)\n",
                "median_normal = np.median(normal_array)\n",
                "mode_normal = mode(normal_array)[0][0]  # Use scipy's mode function\n",
                "variance_normal = np.var(normal_array)\n",
                "std_dev_normal = np.std(normal_array)\n",
                "\n",
                "# Calculate statistics for the chi-square distribution array\n",
                "mean_chi_square = np.mean(chi_square_array)\n",
                "median_chi_square = np.median(chi_square_array)\n",
                "mode_chi_square = mode(chi_square_array)[0][0]  # Use scipy's mode function\n",
                "variance_chi_square = np.var(chi_square_array)\n",
                "std_dev_chi_square = np.std(chi_square_array)\n",
                "\n",
                "# Print the results\n",
                "print(\"Normal Distribution Array Statistics:\")\n",
                "print(f\"Mean: {mean_normal}\")\n",
                "print(f\"Median: {median_normal}\")\n",
                "print(f\"Mode: {mode_normal}\")\n",
                "print(f\"Variance: {variance_normal}\")\n",
                "print(f\"Standard Deviation: {std_dev_normal}\")\n",
                "print()\n",
                "\n",
                "print(\"Chi-Square Distribution Array Statistics:\")\n",
                "print(f\"Mean: {mean_chi_square}\")\n",
                "print(f\"Median: {median_chi_square}\")\n",
                "print(f\"Mode: {mode_chi_square}\")\n",
                "print(f\"Variance: {variance_chi_square}\")\n",
                "print(f\"Standard Deviation: {std_dev_chi_square}\")"
            ]
        },
        {
            "cell_type": "markdown",
            "id": "46c70c3d",
            "metadata": {},
            "source": [
                "### Exercise 2\n",
                "\n",
                "Write a Python program to calculate the standard deviation of the following data:\n",
                "\n",
                "```py\n",
                "data = [4, 2, 5, 8, 6]\n",
                "```"
            ]
        },
        {
            "cell_type": "code",
            "execution_count": 13,
            "id": "d590308e",
            "metadata": {},
            "outputs": [
                {
                    "name": "stdout",
                    "output_type": "stream",
                    "text": [
                        "The standard deviation is: 2.0\n"
                    ]
                }
            ],
            "source": [
                "import math\n",
                "data = [4, 2, 5, 8, 6]\n",
                "mean = sum(data) / len(data)\n",
                "variance = sum((x - mean) ** 2 for x in data) / len(data)\n",
                "std_deviation = math.sqrt(variance)\n",
                "print(f\"The standard deviation is: {std_deviation}\")"
            ]
        }
    ],
    "metadata": {
        "interpreter": {
            "hash": "9248718ffe6ce6938b217e69dbcc175ea21f4c6b28a317e96c05334edae734bb"
        },
        "kernelspec": {
            "display_name": "Python 3.9.12 ('ML-BOOTCAMP')",
            "language": "python",
            "name": "python3"
        },
        "language_info": {
            "codemirror_mode": {
                "name": "ipython",
                "version": 3
            },
            "file_extension": ".py",
            "mimetype": "text/x-python",
            "name": "python",
            "nbconvert_exporter": "python",
            "pygments_lexer": "ipython3",
            "version": "3.11.4"
        }
    },
    "nbformat": 4,
    "nbformat_minor": 5
}
